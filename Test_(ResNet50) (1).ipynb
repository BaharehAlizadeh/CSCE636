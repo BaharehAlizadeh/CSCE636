{
  "nbformat": 4,
  "nbformat_minor": 0,
  "metadata": {
    "colab": {
      "name": "Test_(ResNet50).ipynb",
      "provenance": [],
      "collapsed_sections": [],
      "machine_shape": "hm"
    },
    "kernelspec": {
      "name": "python3",
      "display_name": "Python 3"
    },
    "accelerator": "GPU"
  },
  "cells": [
    {
      "cell_type": "code",
      "metadata": {
        "colab": {
          "base_uri": "https://localhost:8080/"
        },
        "id": "yWVLrvzVjRAI",
        "outputId": "f7b51d63-3df3-495e-f15e-56331389caae"
      },
      "source": [
        "%tensorflow_version 1.x"
      ],
      "execution_count": null,
      "outputs": [
        {
          "output_type": "stream",
          "text": [
            "TensorFlow is already loaded. Please restart the runtime to change versions.\n"
          ],
          "name": "stdout"
        }
      ]
    },
    {
      "cell_type": "code",
      "metadata": {
        "colab": {
          "base_uri": "https://localhost:8080/"
        },
        "id": "6TtK72rxpFbb",
        "outputId": "b751420e-2001-4609-f61a-9164b9e2c2bf"
      },
      "source": [
        "pip install pytictoc"
      ],
      "execution_count": null,
      "outputs": [
        {
          "output_type": "stream",
          "text": [
            "Collecting pytictoc\n",
            "  Downloading https://files.pythonhosted.org/packages/17/fa/c60631a899d6bb370f58d4cd95162ec3c204cd3987f2d65bd7c6a3270dd5/pytictoc-1.5.1-py2.py3-none-any.whl\n",
            "Installing collected packages: pytictoc\n",
            "Successfully installed pytictoc-1.5.1\n"
          ],
          "name": "stdout"
        }
      ]
    },
    {
      "cell_type": "code",
      "metadata": {
        "id": "lwywmKXKbW4a"
      },
      "source": [
        "import numpy as np\n",
        "import keras\n",
        "import sklearn as sk\n",
        "import cv2\n",
        "from keras.applications.resnet import ResNet50\n",
        "from keras.utils.vis_utils import plot_model\n",
        "from keras.models import Model\n",
        "from keras.layers import Input, Dense, Flatten, LSTM, ConvLSTM2D, Reshape, Conv2D, Dropout, BatchNormalization\n",
        "import math\n",
        "import matplotlib.pyplot as plt\n",
        "from sklearn.model_selection import train_test_split\n",
        "from keras.layers.wrappers import TimeDistributed\n",
        "import glob\n",
        "import os\n",
        "import tensorflow as tf\n",
        "import json\n",
        "from keras.models import model_from_json"
      ],
      "execution_count": null,
      "outputs": []
    },
    {
      "cell_type": "code",
      "metadata": {
        "id": "CRmYVBstwwmY",
        "colab": {
          "base_uri": "https://localhost:8080/"
        },
        "outputId": "292ff193-730c-4b4d-822f-7313abe1eb95"
      },
      "source": [
        "from google.colab import drive\n",
        "drive.mount('/content/drive')"
      ],
      "execution_count": null,
      "outputs": [
        {
          "output_type": "stream",
          "text": [
            "Mounted at /content/drive\n"
          ],
          "name": "stdout"
        }
      ]
    },
    {
      "cell_type": "code",
      "metadata": {
        "id": "mcf2LfLEGXzS"
      },
      "source": [
        "path_test = \"/content/drive/My Drive/CSCE636/Youtube_test/test2.mp4\""
      ],
      "execution_count": null,
      "outputs": []
    },
    {
      "cell_type": "code",
      "metadata": {
        "id": "T6gYw_tBG9rI",
        "colab": {
          "base_uri": "https://localhost:8080/"
        },
        "outputId": "a6ad3467-2fb7-4454-869f-9cd48602960b"
      },
      "source": [
        "import pytictoc\n",
        "\n",
        "time_print = pytictoc.TicToc()\n",
        "time_print.tic()\n",
        "print(time_print)\n",
        "videos = []\n",
        "labels_2d = []\n",
        "num_frames = 100\n",
        "frame_rate = 5\n",
        "time_3d = []\n",
        "time_2d = []\n",
        "i=0\n",
        "for path in range(2):\n",
        "  \n",
        "  vidcap = cv2.VideoCapture(path_test)\n",
        "  fps = vidcap.get(cv2.CAP_PROP_FPS)\n",
        "  success, image = vidcap.read()\n",
        "  frames = []\n",
        "  \n",
        "\n",
        "  time = []\n",
        "  count = 0  # control to have the same number of frames\n",
        "  count_fps = 0\n",
        "  while success:\n",
        "    \n",
        "    \n",
        "    success, image = vidcap.read()\n",
        "    count += 1\n",
        "    if(type(image).__module__ == np.__name__):\n",
        "      new_image = cv2.resize(image, (224,224), interpolation = cv2.INTER_AREA)\n",
        "      \n",
        "      frames.append(new_image)\n",
        "      time.append(count_fps*(1/fps))\n",
        "      count_fps += 1\n",
        "      if count==num_frames:\n",
        "        count_fps = 0\n",
        "        print(\"Frames_\", str(count),\", video_\", str(i), \"Done, Time_Elapsed: \", str(round(time_print.tocvalue(),3)), \" Seconds\")\n",
        "        videos.append(frames)\n",
        "        time_3d.append(time)\n",
        "        count = 0\n",
        "        frames = []\n",
        "        time = []\n",
        "\n",
        "  if (count < num_frames):\n",
        "    while (count > 0 and count <= num_frames):\n",
        "      frames.append(new_image)    # if the number of frames is lower than the num_frames, repeat the last image to reach num_frames\n",
        "      count +=1\n",
        "      time.append(count_fps*(1/fps))\n",
        "      count_fps += 1\n",
        "      \n",
        "    videos.append(frames)\n",
        "    time_3d.append(time)\n",
        "  \n",
        "  i+=1\n",
        "  print(\"Video_\", str(i),\"Done, Time_Elapsed: \", str(round(time_print.tocvalue(),3)), \" Seconds\")\n",
        "\n",
        "\n",
        "videos_2d_len = len(videos)\n",
        "videos_3d = np.array(videos)\n",
        "\n",
        "labels_2d = np.zeros((len(videos_3d),num_frames))\n",
        "labels_2d[0:videos_2d_len,:] = 1\n",
        "\n",
        "time_3d = np.array(time_3d)"
      ],
      "execution_count": null,
      "outputs": [
        {
          "output_type": "stream",
          "text": [
            "<pytictoc.TicToc object at 0x7f318251e810>\n",
            "Frames_ 100 , video_ 0 Done, Time_Elapsed:  1.154  Seconds\n",
            "Frames_ 100 , video_ 0 Done, Time_Elapsed:  1.582  Seconds\n",
            "Video_ 1 Done, Time_Elapsed:  1.75  Seconds\n",
            "Frames_ 100 , video_ 1 Done, Time_Elapsed:  2.19  Seconds\n",
            "Frames_ 100 , video_ 1 Done, Time_Elapsed:  2.619  Seconds\n",
            "Video_ 2 Done, Time_Elapsed:  2.785  Seconds\n"
          ],
          "name": "stdout"
        }
      ]
    },
    {
      "cell_type": "code",
      "metadata": {
        "id": "RkgVHYEGKFHq"
      },
      "source": [
        "# ind = list(np.random.randint(0,len(videos_3d)-1,size=len(videos_3d)))\n",
        "videos_3d_temp = videos_3d\n",
        "videos_2d_shuffled = np.reshape(videos_3d_temp, (-1,224,224,3))\n",
        "videos_2d_shuffled = videos_2d_shuffled[:len(videos_2d_shuffled):frame_rate]\n",
        "\n",
        "time_3d_temp = time_3d\n",
        "time_2d_shuffled = np.reshape(time_3d_temp, (-1,1))\n",
        "time_2d_shuffled = time_2d_shuffled[:len(time_2d_shuffled):frame_rate]\n",
        "time_2d_shuffled = time_2d_shuffled.T[0]\n",
        "\n",
        "labels_2d_temp = labels_2d\n",
        "labels_2d_shuffled = labels_2d_temp.flatten()\n",
        "labels_2d_shuffled = labels_2d_shuffled[:len(labels_2d_shuffled):frame_rate]"
      ],
      "execution_count": null,
      "outputs": []
    },
    {
      "cell_type": "code",
      "metadata": {
        "id": "9H-junONIJM_"
      },
      "source": [
        "u_test = ResNet50_loaded.predict(videos_2d_shuffled)"
      ],
      "execution_count": null,
      "outputs": []
    },
    {
      "cell_type": "code",
      "metadata": {
        "id": "_lBg63AiZ1mp"
      },
      "source": [
        ""
      ],
      "execution_count": null,
      "outputs": []
    },
    {
      "cell_type": "code",
      "metadata": {
        "id": "UuBPbz7AHo8J",
        "colab": {
          "base_uri": "https://localhost:8080/"
        },
        "outputId": "33554824-5e28-4685-c67f-2d30e263facb"
      },
      "source": [
        "# serialize model to JSON\n",
        "ResNet50_json = ResNet_for_TL.to_json()\n",
        "with open(\"/content/drive/My Drive/CSCE636/Saved_Model/ResNet50.json\", \"w\") as json_file:\n",
        "    json_file.write(ResNet50_json)\n",
        "# serialize weights to HDF5\n",
        "ResNet_for_TL.save_weights(\"/content/drive/My Drive/CSCE636/Saved_Model/Weights/ResNet50.h5\")\n",
        "print(\"Saved model to disk\")"
      ],
      "execution_count": null,
      "outputs": [
        {
          "output_type": "stream",
          "text": [
            "Saved model to disk\n"
          ],
          "name": "stdout"
        }
      ]
    },
    {
      "cell_type": "code",
      "metadata": {
        "id": "WJQlecGxUIKM"
      },
      "source": [
        ""
      ],
      "execution_count": null,
      "outputs": []
    },
    {
      "cell_type": "code",
      "metadata": {
        "id": "cW5leGqBIgYA",
        "colab": {
          "base_uri": "https://localhost:8080/"
        },
        "outputId": "fffe6459-51c5-4e7b-9dc0-a21e1da47dde"
      },
      "source": [
        "\n",
        "# load json and create model\n",
        "ResNet50_json_file = open('/content/drive/My Drive/CSCE636/Saved_Model/ResNet50.json', 'r')\n",
        "loaded_model_json = ResNet50_json_file.read()\n",
        "ResNet50_json_file.close()\n",
        "ResNet50_loaded = model_from_json(loaded_model_json)\n",
        "# load weights into new model\n",
        "ResNet50_loaded.load_weights(\"/content/drive/My Drive/CSCE636/Saved_Model/Weights/ResNet50.h5\")\n",
        "print(\"Loaded model from disk\")"
      ],
      "execution_count": null,
      "outputs": [
        {
          "output_type": "stream",
          "text": [
            "Loaded model from disk\n"
          ],
          "name": "stdout"
        }
      ]
    },
    {
      "cell_type": "code",
      "metadata": {
        "colab": {
          "base_uri": "https://localhost:8080/"
        },
        "id": "L_8JoxdqUNbL",
        "outputId": "07a60423-971a-4786-d84b-b46912ad9807"
      },
      "source": [
        "# load weights into new model\r\n",
        "ResNet50_loaded.load_weights(\"/content/drive/My Drive/CSCE636/Saved_Model/Weights/ResNet50.h5\")\r\n",
        "print(\"Loaded model from disk\")"
      ],
      "execution_count": null,
      "outputs": [
        {
          "output_type": "stream",
          "text": [
            "Loaded model from disk\n"
          ],
          "name": "stdout"
        }
      ]
    },
    {
      "cell_type": "code",
      "metadata": {
        "id": "cg3pnhHnIXc4",
        "colab": {
          "base_uri": "https://localhost:8080/"
        },
        "outputId": "3cc14517-62f4-4e78-e5e8-b8a5fce16735"
      },
      "source": [
        "u_test"
      ],
      "execution_count": null,
      "outputs": [
        {
          "output_type": "execute_result",
          "data": {
            "text/plain": [
              "array([[0.99999666],\n",
              "       [0.99999654],\n",
              "       [0.99999475],\n",
              "       [0.99999475],\n",
              "       [0.999997  ],\n",
              "       [0.9999926 ],\n",
              "       [0.99997807],\n",
              "       [0.9999957 ],\n",
              "       [0.9999813 ],\n",
              "       [0.9999639 ],\n",
              "       [0.99996305],\n",
              "       [0.99996305],\n",
              "       [0.999967  ],\n",
              "       [0.999967  ],\n",
              "       [0.9999361 ],\n",
              "       [0.9995678 ],\n",
              "       [0.99923015],\n",
              "       [0.99907863],\n",
              "       [0.99919015],\n",
              "       [0.9999652 ],\n",
              "       [0.999967  ],\n",
              "       [0.9999316 ],\n",
              "       [0.999967  ],\n",
              "       [0.99996734],\n",
              "       [0.9999342 ],\n",
              "       [0.999967  ],\n",
              "       [0.999967  ],\n",
              "       [0.999967  ],\n",
              "       [0.999967  ],\n",
              "       [0.99995506],\n",
              "       [0.99999464],\n",
              "       [0.99998033],\n",
              "       [0.9999901 ],\n",
              "       [0.9999634 ],\n",
              "       [0.9999726 ],\n",
              "       [0.9999901 ],\n",
              "       [0.9999945 ],\n",
              "       [0.9999945 ],\n",
              "       [0.9999945 ],\n",
              "       [0.99999595],\n",
              "       [0.9999945 ],\n",
              "       [0.9999956 ],\n",
              "       [0.9999889 ],\n",
              "       [0.99998784],\n",
              "       [0.9999701 ],\n",
              "       [0.9999801 ],\n",
              "       [0.9999895 ],\n",
              "       [0.99998176],\n",
              "       [0.9999807 ],\n",
              "       [0.9999807 ],\n",
              "       [0.9999807 ],\n",
              "       [0.9999807 ],\n",
              "       [0.9999807 ],\n",
              "       [0.9999807 ],\n",
              "       [0.9999807 ],\n",
              "       [0.9999807 ],\n",
              "       [0.9999807 ],\n",
              "       [0.9999807 ],\n",
              "       [0.9999807 ],\n",
              "       [0.9999807 ],\n",
              "       [0.99999666],\n",
              "       [0.99999654],\n",
              "       [0.99999475],\n",
              "       [0.99999475],\n",
              "       [0.999997  ],\n",
              "       [0.9999926 ],\n",
              "       [0.99997807],\n",
              "       [0.9999957 ],\n",
              "       [0.9999813 ],\n",
              "       [0.9999639 ],\n",
              "       [0.99996305],\n",
              "       [0.99996305],\n",
              "       [0.999967  ],\n",
              "       [0.999967  ],\n",
              "       [0.9999361 ],\n",
              "       [0.9995678 ],\n",
              "       [0.99923015],\n",
              "       [0.99907863],\n",
              "       [0.99919015],\n",
              "       [0.9999652 ],\n",
              "       [0.999967  ],\n",
              "       [0.9999316 ],\n",
              "       [0.999967  ],\n",
              "       [0.99996734],\n",
              "       [0.9999342 ],\n",
              "       [0.999967  ],\n",
              "       [0.999967  ],\n",
              "       [0.999967  ],\n",
              "       [0.999967  ],\n",
              "       [0.99995506],\n",
              "       [0.99999464],\n",
              "       [0.99998033],\n",
              "       [0.9999901 ],\n",
              "       [0.9999634 ],\n",
              "       [0.9999726 ],\n",
              "       [0.9999901 ],\n",
              "       [0.9999945 ],\n",
              "       [0.9999945 ],\n",
              "       [0.9999945 ],\n",
              "       [0.99999595],\n",
              "       [0.9999945 ],\n",
              "       [0.9999956 ],\n",
              "       [0.9999889 ],\n",
              "       [0.99998784],\n",
              "       [0.9999701 ],\n",
              "       [0.9999801 ],\n",
              "       [0.9999895 ],\n",
              "       [0.99998176],\n",
              "       [0.9999807 ],\n",
              "       [0.9999807 ],\n",
              "       [0.9999807 ],\n",
              "       [0.9999807 ],\n",
              "       [0.9999807 ],\n",
              "       [0.9999807 ],\n",
              "       [0.9999807 ],\n",
              "       [0.9999807 ],\n",
              "       [0.9999807 ],\n",
              "       [0.9999807 ],\n",
              "       [0.9999807 ],\n",
              "       [0.9999807 ]], dtype=float32)"
            ]
          },
          "metadata": {
            "tags": []
          },
          "execution_count": 27
        }
      ]
    },
    {
      "cell_type": "code",
      "metadata": {
        "colab": {
          "base_uri": "https://localhost:8080/"
        },
        "id": "sUir-v3xt8XX",
        "outputId": "b52985d8-b2ba-4867-f035-0b26fa9bc21e"
      },
      "source": [
        "len(u_test)//frame"
      ],
      "execution_count": null,
      "outputs": [
        {
          "output_type": "execute_result",
          "data": {
            "text/plain": [
              "6.0"
            ]
          },
          "metadata": {
            "tags": []
          },
          "execution_count": 79
        }
      ]
    },
    {
      "cell_type": "code",
      "metadata": {
        "colab": {
          "base_uri": "https://localhost:8080/"
        },
        "id": "mfUHAUbruInI",
        "outputId": "e964d79c-7e48-40f2-cf94-894256c1335f"
      },
      "source": [
        "frame"
      ],
      "execution_count": null,
      "outputs": [
        {
          "output_type": "execute_result",
          "data": {
            "text/plain": [
              "20.0"
            ]
          },
          "metadata": {
            "tags": []
          },
          "execution_count": 71
        }
      ]
    },
    {
      "cell_type": "code",
      "metadata": {
        "colab": {
          "base_uri": "https://localhost:8080/",
          "height": 296
        },
        "id": "4_tU1l0npeM5",
        "outputId": "dd40fec8-fbfa-4431-b65f-25f53409f5b4"
      },
      "source": [
        "# frame = num_frames/frame_rate\r\n",
        "# xxx = np.arange(0, 19, 1/frame)\r\n",
        "# plt.plot(xxx, u_test)\r\n",
        "plt.plot(u_test)\r\n",
        "plt.ylim(-.01,1.1)\r\n",
        "plt.ylabel('prediction')\r\n",
        "plt.xlabel('frame number')"
      ],
      "execution_count": null,
      "outputs": [
        {
          "output_type": "execute_result",
          "data": {
            "text/plain": [
              "Text(0.5, 0, 'frame number')"
            ]
          },
          "metadata": {
            "tags": []
          },
          "execution_count": 28
        },
        {
          "output_type": "display_data",
          "data": {
            "image/png": "[encoded data removed]",
            "text/plain": [
              "<Figure size 432x288 with 1 Axes>"
            ]
          },
          "metadata": {
            "tags": [],
            "needs_background": "light"
          }
        }
      ]
    }
  ]
}